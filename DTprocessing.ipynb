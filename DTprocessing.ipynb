{
 "cells": [
  {
   "cell_type": "code",
   "execution_count": 1,
   "id": "17a80191-e075-448d-b506-faf83f781e60",
   "metadata": {},
   "outputs": [
    {
     "name": "stdout",
     "output_type": "stream",
     "text": [
      "Original Data:\n",
      "    Age   Salary  Experience\n",
      "0  25.0  50000.0         1.0\n",
      "1  30.0  60000.0         3.0\n",
      "2   NaN  52000.0         2.0\n",
      "3  22.0      NaN         4.0\n",
      "4  28.0  58000.0         NaN\n",
      "\n",
      "After Handling Missing Values (Filled with Mean):\n",
      "     Age   Salary  Experience\n",
      "0  25.00  50000.0         1.0\n",
      "1  30.00  60000.0         3.0\n",
      "2  26.25  52000.0         2.0\n",
      "3  22.00  55000.0         4.0\n",
      "4  28.00  58000.0         2.5\n",
      "\n",
      "After Normalization (Min-Max Scaling):\n",
      "       Age  Salary  Experience\n",
      "0  0.37500     0.0    0.000000\n",
      "1  1.00000     1.0    0.666667\n",
      "2  0.53125     0.2    0.333333\n",
      "3  0.00000     0.5    1.000000\n",
      "4  0.75000     0.8    0.500000\n"
     ]
    }
   ],
   "source": [
    "import pandas as pd\n",
    "from sklearn.preprocessing import MinMaxScaler\n",
    "\n",
    "# Sample dataset with missing values\n",
    "data = {\n",
    "    'Age': [25, 30, None, 22, 28],\n",
    "    'Salary': [50000, 60000, 52000, None, 58000],\n",
    "    'Experience': [1, 3, 2, 4, None]\n",
    "}\n",
    "\n",
    "df = pd.DataFrame(data)\n",
    "\n",
    "print(\"Original Data:\")\n",
    "print(df)\n",
    "\n",
    "# Step 1: Handle missing values\n",
    "# Option 1: Fill missing values with the mean of each column\n",
    "df_filled = df.fillna(df.mean(numeric_only=True))\n",
    "\n",
    "print(\"\\nAfter Handling Missing Values (Filled with Mean):\")\n",
    "print(df_filled)\n",
    "\n",
    "# Step 2: Normalize the data using Min-Max scaling\n",
    "scaler = MinMaxScaler()\n",
    "normalized_data = scaler.fit_transform(df_filled)\n",
    "\n",
    "# Convert back to DataFrame for readability\n",
    "df_normalized = pd.DataFrame(normalized_data, columns=df.columns)\n",
    "\n",
    "print(\"\\nAfter Normalization (Min-Max Scaling):\")\n",
    "print(df_normalized)\n"
   ]
  },
  {
   "cell_type": "code",
   "execution_count": null,
   "id": "e0e6d605-b78f-445c-b8de-4c287f483a73",
   "metadata": {},
   "outputs": [],
   "source": []
  }
 ],
 "metadata": {
  "kernelspec": {
   "display_name": "Python 3 (ipykernel)",
   "language": "python",
   "name": "python3"
  },
  "language_info": {
   "codemirror_mode": {
    "name": "ipython",
    "version": 3
   },
   "file_extension": ".py",
   "mimetype": "text/x-python",
   "name": "python",
   "nbconvert_exporter": "python",
   "pygments_lexer": "ipython3",
   "version": "3.12.5"
  }
 },
 "nbformat": 4,
 "nbformat_minor": 5
}
